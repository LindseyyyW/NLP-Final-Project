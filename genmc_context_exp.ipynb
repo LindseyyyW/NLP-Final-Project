{
  "cells": [
    {
      "cell_type": "code",
      "execution_count": null,
      "id": "5838f5ee",
      "metadata": {
        "_cell_guid": "b1076dfc-b9ad-4769-8c92-a6c4dae69d19",
        "_uuid": "8f2839f25d086af736a60e9eeb907d3b93b6e0e5",
        "execution": {
          "iopub.execute_input": "2024-03-13T04:34:28.043116Z",
          "iopub.status.busy": "2024-03-13T04:34:28.042732Z",
          "iopub.status.idle": "2024-03-13T04:34:28.773040Z",
          "shell.execute_reply": "2024-03-13T04:34:28.772011Z"
        },
        "papermill": {
          "duration": 0.7405,
          "end_time": "2024-03-13T04:34:28.775407",
          "exception": false,
          "start_time": "2024-03-13T04:34:28.034907",
          "status": "completed"
        },
        "tags": [],
        "id": "5838f5ee",
        "outputId": "6dcbcf06-75a9-411c-ca3a-d0bd80df3df1"
      },
      "outputs": [
        {
          "name": "stdout",
          "output_type": "stream",
          "text": [
            "/kaggle/input/checkpoints/checkpointspytorch_model.bin\n",
            "/kaggle/input/checkpoints/results/lr_0.0001_seed_1_bs_8_ga_1_layer_num_1_alpha_0.5_beta_1/dev.csv\n",
            "/kaggle/input/openbkqa/dev.jsonl\n",
            "/kaggle/input/openbkqa/test.jsonl\n",
            "/kaggle/input/openbkqa/train.jsonl\n"
          ]
        }
      ],
      "source": [
        "# This Python 3 environment comes with many helpful analytics libraries installed\n",
        "# It is defined by the kaggle/python Docker image: https://github.com/kaggle/docker-python\n",
        "# For example, here's several helpful packages to load\n",
        "\n",
        "import numpy as np # linear algebra\n",
        "import pandas as pd # data processing, CSV file I/O (e.g. pd.read_csv)\n",
        "\n",
        "# Input data files are available in the read-only \"../input/\" directory\n",
        "# For example, running this (by clicking run or pressing Shift+Enter) will list all files under the input directory\n",
        "\n",
        "import os\n",
        "for dirname, _, filenames in os.walk('/kaggle/input'):\n",
        "    for filename in filenames:\n",
        "        print(os.path.join(dirname, filename))\n",
        "\n",
        "# You can write up to 20GB to the current directory (/kaggle/working/) that gets preserved as output when you create a version using \"Save & Run All\"\n",
        "# You can also write temporary files to /kaggle/temp/, but they won't be saved outside of the current session"
      ]
    },
    {
      "cell_type": "code",
      "execution_count": null,
      "id": "b6820471",
      "metadata": {
        "execution": {
          "iopub.execute_input": "2024-03-13T04:34:28.788373Z",
          "iopub.status.busy": "2024-03-13T04:34:28.787969Z",
          "iopub.status.idle": "2024-03-13T04:34:42.362867Z",
          "shell.execute_reply": "2024-03-13T04:34:42.361926Z"
        },
        "papermill": {
          "duration": 13.583991,
          "end_time": "2024-03-13T04:34:42.365365",
          "exception": false,
          "start_time": "2024-03-13T04:34:28.781374",
          "status": "completed"
        },
        "tags": [],
        "id": "b6820471",
        "outputId": "292fed87-9093-467b-d3c8-08ca09c4c694"
      },
      "outputs": [
        {
          "name": "stdout",
          "output_type": "stream",
          "text": [
            "Collecting rouge\r\n",
            "  Downloading rouge-1.0.1-py3-none-any.whl.metadata (4.1 kB)\r\n",
            "Requirement already satisfied: six in /opt/conda/lib/python3.10/site-packages (from rouge) (1.16.0)\r\n",
            "Downloading rouge-1.0.1-py3-none-any.whl (13 kB)\r\n",
            "Installing collected packages: rouge\r\n",
            "Successfully installed rouge-1.0.1\r\n"
          ]
        }
      ],
      "source": [
        "!pip install rouge"
      ]
    },
    {
      "cell_type": "markdown",
      "id": "679407d3",
      "metadata": {
        "papermill": {
          "duration": 0.005739,
          "end_time": "2024-03-13T04:34:42.377264",
          "exception": false,
          "start_time": "2024-03-13T04:34:42.371525",
          "status": "completed"
        },
        "tags": [],
        "id": "679407d3"
      },
      "source": [
        "**utils.py**"
      ]
    },
    {
      "cell_type": "code",
      "execution_count": null,
      "id": "1cef4241",
      "metadata": {
        "execution": {
          "iopub.execute_input": "2024-03-13T04:34:42.391369Z",
          "iopub.status.busy": "2024-03-13T04:34:42.390340Z",
          "iopub.status.idle": "2024-03-13T04:34:45.978649Z",
          "shell.execute_reply": "2024-03-13T04:34:45.977658Z"
        },
        "papermill": {
          "duration": 3.598019,
          "end_time": "2024-03-13T04:34:45.980965",
          "exception": false,
          "start_time": "2024-03-13T04:34:42.382946",
          "status": "completed"
        },
        "tags": [],
        "id": "1cef4241"
      },
      "outputs": [],
      "source": [
        "#coding=utf-8\n",
        "import rouge\n",
        "import json\n",
        "import os\n",
        "import torch\n",
        "import numpy as np\n",
        "import random\n",
        "\n",
        "rouge = rouge.Rouge()\n",
        "def compute_rouge(source, target):\n",
        "\n",
        "    source, target = ' '.join(source), ' '.join(target)\n",
        "    try:\n",
        "        scores = rouge.get_scores(hyps=source, refs=target)\n",
        "        return {\n",
        "            'rouge-1': scores[0]['rouge-1']['f'],\n",
        "            'rouge-2': scores[0]['rouge-2']['f'],\n",
        "            'rouge-l': scores[0]['rouge-l']['f'],\n",
        "        }\n",
        "    except ValueError:\n",
        "        return {\n",
        "            'rouge-1': 0.0,\n",
        "            'rouge-2': 0.0,\n",
        "            'rouge-l': 0.0,\n",
        "        }\n",
        "\n",
        "\n",
        "def compute_rouges(sources, targets):\n",
        "    scores = {\n",
        "        'rouge-1': 0.0,\n",
        "        'rouge-2': 0.0,\n",
        "        'rouge-l': 0.0,\n",
        "    }\n",
        "    for source, target in zip(sources, targets):\n",
        "        score = compute_rouge(source, target)\n",
        "        for k, v in scores.items():\n",
        "            scores[k] = v + score[k]\n",
        "    return {k: v / len(targets) for k, v in scores.items()}\n",
        "\n",
        "\n",
        "def save_dataset(path, dataset):\n",
        "\n",
        "    with open(path, 'w', encoding='utf-8') as f:\n",
        "        for sample in dataset:\n",
        "            f.write(sample + '\\n')\n",
        "\n",
        "\n",
        "def read_dataset(path):\n",
        "    dataset = []\n",
        "    with open(path, 'r', encoding='utf-8') as f:\n",
        "        lines = f.readlines()\n",
        "        for i, line in enumerate(lines):\n",
        "            # if i > 10:\n",
        "            #     break\n",
        "            line = line.strip()\n",
        "            line = json.loads(line)\n",
        "            dataset.append(line)\n",
        "    return dataset\n",
        "\n",
        "def save_model(output_model_file, model, optimizer):\n",
        "    os.makedirs(output_model_file, exist_ok=True)\n",
        "    output_model_file += 'pytorch_model.bin'\n",
        "    torch.save({\n",
        "        'model_state_dict': model.state_dict(),\n",
        "        'optimizer_state_dict': optimizer.state_dict()\n",
        "    }, output_model_file)\n",
        "\n",
        "\n",
        "def set_seed(seed):\n",
        "    os.environ['PYTHONHASHSEED'] = str(seed)\n",
        "    torch.manual_seed(seed)  # cpu\n",
        "    torch.cuda.manual_seed(seed)\n",
        "    torch.cuda.manual_seed_all(seed)  # gpu\n",
        "    np.random.seed(seed)\n",
        "    random.seed(seed)\n",
        "    torch.backends.cudnn.deterministic = True  # consistent results on the cpu and gpu\n"
      ]
    },
    {
      "cell_type": "markdown",
      "id": "41f4a249",
      "metadata": {
        "papermill": {
          "duration": 0.005833,
          "end_time": "2024-03-13T04:34:45.993165",
          "exception": false,
          "start_time": "2024-03-13T04:34:45.987332",
          "status": "completed"
        },
        "tags": [],
        "id": "41f4a249"
      },
      "source": [
        "**modeling_transformer.py**"
      ]
    },
    {
      "cell_type": "code",
      "execution_count": null,
      "id": "a0a9fe0f",
      "metadata": {
        "execution": {
          "iopub.execute_input": "2024-03-13T04:34:46.007272Z",
          "iopub.status.busy": "2024-03-13T04:34:46.006749Z",
          "iopub.status.idle": "2024-03-13T04:34:46.099977Z",
          "shell.execute_reply": "2024-03-13T04:34:46.099267Z"
        },
        "papermill": {
          "duration": 0.103101,
          "end_time": "2024-03-13T04:34:46.102073",
          "exception": false,
          "start_time": "2024-03-13T04:34:45.998972",
          "status": "completed"
        },
        "tags": [],
        "id": "a0a9fe0f",
        "outputId": "74fba9ee-ec92-4d21-cdc1-38f030ccf918"
      },
      "outputs": [
        {
          "name": "stdout",
          "output_type": "stream",
          "text": [
            "Better speed can be achieved with apex installed from https://www.github.com/nvidia/apex.\n"
          ]
        }
      ],
      "source": [
        "# coding=utf-8\n",
        "# Copyright 2018 The Google AI Language Team Authors and The HugginFace Inc. team.\n",
        "# Copyright (c) 2018, NVIDIA CORPORATION.  All rights reserved.\n",
        "#\n",
        "# Licensed under the Apache License, Version 2.0 (the \"License\");\n",
        "# you may not use this file except in compliance with the License.\n",
        "# You may obtain a copy of the License at\n",
        "#\n",
        "#     http://www.apache.org/licenses/LICENSE-2.0\n",
        "#\n",
        "# Unless requreader2d by applicable law or agreed to in writing, software\n",
        "# distributed under the License is distributed on an \"AS IS\" BASIS,\n",
        "# WITHOUT WARRANTIES OR CONDITIONS OF ANY KIND, either express or implied.\n",
        "# See the License for the specific language governing permissions and\n",
        "# limitations under the License.\n",
        "\"\"\"PyTorch BERT model.\"\"\"\n",
        "\n",
        "from __future__ import absolute_import\n",
        "from __future__ import division\n",
        "from __future__ import print_function\n",
        "\n",
        "import os\n",
        "import copy\n",
        "import json\n",
        "import math\n",
        "import logging\n",
        "import tarfile\n",
        "import tempfile\n",
        "import shutil\n",
        "\n",
        "import torch\n",
        "from torch import nn\n",
        "\n",
        "logger = logging.getLogger(__name__)\n",
        "\n",
        "PRETRAINED_MODEL_ARCHIVE_MAP = {\n",
        "    'bert-base-uncased': \"https://s3.amazonaws.com/models.huggingface.co/bert/bert-base-uncased.tar.gz\",\n",
        "    'bert-large-uncased': \"https://s3.amazonaws.com/models.huggingface.co/bert/bert-large-uncased.tar.gz\",\n",
        "    'bert-base-cased': \"https://s3.amazonaws.com/models.huggingface.co/bert/bert-base-cased.tar.gz\",\n",
        "    'bert-large-cased': \"https://s3.amazonaws.com/models.huggingface.co/bert/bert-large-cased.tar.gz\",\n",
        "    'bert-base-multilingual-uncased': \"https://s3.amazonaws.com/models.huggingface.co/bert/bert-base-multilingual-uncased.tar.gz\",\n",
        "    'bert-base-multilingual-cased': \"https://s3.amazonaws.com/models.huggingface.co/bert/bert-base-multilingual-cased.tar.gz\",\n",
        "    'bert-base-chinese': \"https://s3.amazonaws.com/models.huggingface.co/bert/bert-base-chinese.tar.gz\",\n",
        "}\n",
        "CONFIG_NAME = 'bert_config.json'\n",
        "WEIGHTS_NAME = 'pytorch_model.bin'\n",
        "\n",
        "\n",
        "def gelu(x):\n",
        "    \"\"\"Implementation of the gelu activation function.\n",
        "        For information: OpenAI GPT's gelu is slightly diffretrievernt (and gives slightly diffretrievernt results):\n",
        "        0.5 * x * (1 + torch.tanh(math.sqrt(2 / math.pi) * (x + 0.044715 * torch.pow(x, 3))))\n",
        "    \"\"\"\n",
        "    return x * 0.5 * (1.0 + torch.erf(x / math.sqrt(2.0)))\n",
        "\n",
        "\n",
        "def swish(x):\n",
        "    return x * torch.sigmoid(x)\n",
        "\n",
        "\n",
        "ACT2FN = {\"gelu\": gelu, \"relu\": torch.nn.functional.relu, \"swish\": swish}\n",
        "\n",
        "\n",
        "class BertConfig(object):\n",
        "    \"\"\"Configuration class to store the configuration of a `BertModel`.\n",
        "    \"\"\"\n",
        "\n",
        "    def __init__(self,\n",
        "                 vocab_size_or_config_json_file,\n",
        "                 hidden_size=768,\n",
        "                 num_hidden_layers=12,\n",
        "                 num_attention_heads=12,\n",
        "                 intermediate_size=3072,\n",
        "                 hidden_act=\"gelu\",\n",
        "                 hidden_dropout_prob=0.2,\n",
        "                 attention_probs_dropout_prob=0.2,\n",
        "                 max_position_embeddings=512,\n",
        "                 type_vocab_size=2,\n",
        "                 initializer_range=0.02):\n",
        "        \"\"\"Constructs BertConfig.\n",
        "\n",
        "        Args:\n",
        "            vocab_size_or_config_json_file: Vocabulary size of `inputs_ids` in `BertModel`.\n",
        "            hidden_size: Size of the encoder layers and the pooler layer.\n",
        "            num_hidden_layers: Number of hidden layers in the Transformer encoder.\n",
        "            num_attention_heads: Number of attention heads for each attention layer in\n",
        "                the Transformer encoder.\n",
        "            intermediate_size: The size of the \"intermediate\" (i.e., feed-forward)\n",
        "                layer in the Transformer encoder.\n",
        "            hidden_act: The non-linear activation function (function or string) in the\n",
        "                encoder and pooler. If string, \"gelu\", \"relu\" and \"swish\" are supported.\n",
        "            hidden_dropout_prob: The dropout probabilitiy for all fully connected\n",
        "                layers in the embeddings, encoder, and pooler.\n",
        "            attention_probs_dropout_prob: The dropout ratio for the attention\n",
        "                probabilities.\n",
        "            max_position_embeddings: The maximum sequence length that this model might\n",
        "                ever be used with. Typically set this to something large just in case\n",
        "                (e.g., 512 or 1024 or 2048).\n",
        "            type_vocab_size: The vocabulary size of the `token_type_ids` passed into\n",
        "                `BertModel`.\n",
        "            initializer_range: The sttdev of the truncated_normal_initializer for\n",
        "                initializing all weight matrices.\n",
        "        \"\"\"\n",
        "        if isinstance(vocab_size_or_config_json_file, str):\n",
        "            with open(vocab_size_or_config_json_file, \"r\", encoding='utf-8') as reader:\n",
        "                json_config = json.loads(reader.read())\n",
        "            for key, value in json_config.items():\n",
        "                self.__dict__[key] = value\n",
        "        elif isinstance(vocab_size_or_config_json_file, int):\n",
        "            self.vocab_size = vocab_size_or_config_json_file\n",
        "            self.hidden_size = hidden_size\n",
        "            self.num_hidden_layers = num_hidden_layers\n",
        "            self.num_attention_heads = num_attention_heads\n",
        "            self.hidden_act = hidden_act\n",
        "            self.intermediate_size = intermediate_size\n",
        "            self.hidden_dropout_prob = hidden_dropout_prob\n",
        "            self.attention_probs_dropout_prob = attention_probs_dropout_prob\n",
        "            self.max_position_embeddings = max_position_embeddings\n",
        "            self.type_vocab_size = type_vocab_size\n",
        "            self.initializer_range = initializer_range\n",
        "        else:\n",
        "            raise ValueError(\"First argument must be either a vocabulary size (int)\"\n",
        "                             \"or the path to a pretrained model config file (str)\")\n",
        "\n",
        "    @classmethod\n",
        "    def from_dict(cls, json_object):\n",
        "        \"\"\"Constructs a `BertConfig` from a Python dictionary of parameters.\"\"\"\n",
        "        config = BertConfig(vocab_size_or_config_json_file=-1)\n",
        "        for key, value in json_object.items():\n",
        "            config.__dict__[key] = value\n",
        "        return config\n",
        "\n",
        "    @classmethod\n",
        "    def from_json_file(cls, json_file):\n",
        "        \"\"\"Constructs a `BertConfig` from a json file of parameters.\"\"\"\n",
        "        with open(json_file, \"r\", encoding='utf-8') as reader:\n",
        "            text = reader.read()\n",
        "        return cls.from_dict(json.loads(text))\n",
        "\n",
        "    def __repr__(self):\n",
        "        return str(self.to_json_string())\n",
        "\n",
        "    def to_dict(self):\n",
        "        \"\"\"Serializes this instance to a Python dictionary.\"\"\"\n",
        "        output = copy.deepcopy(self.__dict__)\n",
        "        return output\n",
        "\n",
        "    def to_json_string(self):\n",
        "        \"\"\"Serializes this instance to a JSON string.\"\"\"\n",
        "        return json.dumps(self.to_dict(), indent=2, sort_keys=True) + \"\\n\"\n",
        "\n",
        "\n",
        "try:\n",
        "    from apex.normalization.fused_layer_norm import FusedLayerNorm as BertLayerNorm\n",
        "except ImportError:\n",
        "    print(\"Better speed can be achieved with apex installed from https://www.github.com/nvidia/apex.\")\n",
        "\n",
        "\n",
        "    class BertLayerNorm(nn.Module):\n",
        "        def __init__(self, hidden_size, eps=1e-12):\n",
        "            \"\"\"Construct a layernorm module in the TF style (epsilon inside the square root).\n",
        "            \"\"\"\n",
        "            super(BertLayerNorm, self).__init__()\n",
        "            self.weight = nn.Parameter(torch.ones(hidden_size))\n",
        "            self.bias = nn.Parameter(torch.zeros(hidden_size))\n",
        "            self.variance_epsilon = eps\n",
        "\n",
        "        def forward(self, x):\n",
        "            u = x.mean(-1, keepdim=True)\n",
        "            s = (x - u).pow(2).mean(-1, keepdim=True)\n",
        "            x = (x - u) / torch.sqrt(s + self.variance_epsilon)\n",
        "            return self.weight * x + self.bias\n",
        "\n",
        "\n",
        "class BertEmbeddings(nn.Module):\n",
        "    \"\"\"Construct the embeddings from word, position and token_type embeddings.\n",
        "    \"\"\"\n",
        "\n",
        "    def __init__(self, config):\n",
        "        super(BertEmbeddings, self).__init__()\n",
        "        self.word_embeddings = nn.Embedding(config.vocab_size, config.hidden_size)\n",
        "        self.position_embeddings = nn.Embedding(config.max_position_embeddings, config.hidden_size)\n",
        "        self.token_type_embeddings = nn.Embedding(config.type_vocab_size, config.hidden_size)\n",
        "\n",
        "        # self.LayerNorm is not snake-cased to stick with TensorFlow model variable name and be able to load\n",
        "        # any TensorFlow checkpoint file\n",
        "        self.LayerNorm = BertLayerNorm(config.hidden_size, eps=1e-12)\n",
        "        self.dropout = nn.Dropout(config.hidden_dropout_prob)\n",
        "\n",
        "    def forward(self, input_ids, token_type_ids=None):\n",
        "        seq_length = input_ids.size(1)\n",
        "        position_ids = torch.arange(seq_length, dtype=torch.long, device=input_ids.device)\n",
        "        position_ids = position_ids.unsqueeze(0).expand_as(input_ids)\n",
        "        if token_type_ids is None:\n",
        "            token_type_ids = torch.zeros_like(input_ids)\n",
        "\n",
        "        words_embeddings = self.word_embeddings(input_ids)\n",
        "        position_embeddings = self.position_embeddings(position_ids)\n",
        "        token_type_embeddings = self.token_type_embeddings(token_type_ids)\n",
        "\n",
        "        embeddings = words_embeddings + position_embeddings + token_type_embeddings\n",
        "        embeddings = self.LayerNorm(embeddings)\n",
        "        embeddings = self.dropout(embeddings)\n",
        "        return embeddings\n",
        "\n",
        "\n",
        "class BertSelfAttention(nn.Module):\n",
        "    def __init__(self, config):\n",
        "        super(BertSelfAttention, self).__init__()\n",
        "        if config.hidden_size % config.num_attention_heads != 0:\n",
        "            raise ValueError(\n",
        "                \"The hidden size (%d) is not a multiple of the number of attention \"\n",
        "                \"heads (%d)\" % (config.hidden_size, config.num_attention_heads))\n",
        "        self.num_attention_heads = config.num_attention_heads\n",
        "        self.attention_head_size = int(config.hidden_size / config.num_attention_heads)\n",
        "        self.all_head_size = self.num_attention_heads * self.attention_head_size\n",
        "        self.query = nn.Linear(config.hidden_size, self.all_head_size)\n",
        "        self.key = nn.Linear(config.hidden_size, self.all_head_size)\n",
        "        self.value = nn.Linear(config.hidden_size, self.all_head_size)\n",
        "        self.dropout = nn.Dropout(config.attention_probs_dropout_prob)\n",
        "\n",
        "    def transpose_for_scores(self, x):\n",
        "        new_x_shape = x.size()[:-1] + (self.num_attention_heads, self.attention_head_size)\n",
        "        x = x.view(*new_x_shape)\n",
        "        return x.permute(0, 2, 1, 3)\n",
        "\n",
        "    def forward(self, hidden_states, attention_mask):\n",
        "        mixed_query_layer = self.query(hidden_states)\n",
        "        mixed_key_layer = self.key(hidden_states)\n",
        "        mixed_value_layer = self.value(hidden_states)\n",
        "\n",
        "        query_layer = self.transpose_for_scores(mixed_query_layer)\n",
        "        key_layer = self.transpose_for_scores(mixed_key_layer)\n",
        "        value_layer = self.transpose_for_scores(mixed_value_layer)\n",
        "\n",
        "        query_layer_hat = torch.nn.functional.normalize(query_layer, dim=-1)\n",
        "        key_layer_hat = torch.nn.functional.normalize(key_layer, dim=-1)\n",
        "\n",
        "        attention_scores = torch.matmul(query_layer_hat, key_layer_hat.transpose(-1, -2))\n",
        "\n",
        "\n",
        "        # Take the dot product between \"query\" and \"key\" to get the raw attention scores.\n",
        "        #attention_scores = torch.matmul(query_layer, key_layer.transpose(-1, -2))\n",
        "        attention_scores = attention_scores / math.sqrt(self.attention_head_size)\n",
        "        # Apply the attention mask is (precomputed for all layers in BertModel forward() function)\n",
        "        attention_scores = attention_scores + attention_mask\n",
        "        # Normalize the attention scores to probabilities.\n",
        "        #attention_probs = nn.Softmax(dim=-1)(attention_scores)\n",
        "        attention_softmax = attention_scores\n",
        "\n",
        "        # This is actually dropping out entreader2 tokens to attend to, which might\n",
        "        # seem a bit unusual, but is taken from the original Transformer paper.\n",
        "        attention_probs = self.dropout(attention_scores)\n",
        "\n",
        "        context_layer = torch.matmul(attention_probs, value_layer)\n",
        "        B, n_head, n_tok, n_embd = query_layer.shape\n",
        "        context_layer /= n_embd\n",
        "\n",
        "        context_layer = context_layer.permute(0, 2, 1, 3).contiguous()\n",
        "        new_context_layer_shape = context_layer.size()[:-2] + (self.all_head_size,)\n",
        "        context_layer = context_layer.view(*new_context_layer_shape)\n",
        "        return context_layer, attention_softmax\n",
        "\n",
        "    # def forward(self, hidden_states, attention_mask):\n",
        "    #     mixed_query_layer = self.query(hidden_states)\n",
        "    #     mixed_key_layer = self.key(hidden_states)\n",
        "    #     mixed_value_layer = self.value(hidden_states)\n",
        "\n",
        "    #     query_layer = self.transpose_for_scores(mixed_query_layer)\n",
        "    #     key_layer = self.transpose_for_scores(mixed_key_layer)\n",
        "    #     value_layer = self.transpose_for_scores(mixed_value_layer)\n",
        "\n",
        "    #     query_layer_hat = torch.nn.functional.normalize(query_layer, dim = -2)\n",
        "    #     key_layer_hat = torch.nn.functional.normalize(key_layer, dim = -2)\n",
        "\n",
        "    #     attention_scores = torch.matmul(key_layer_hat.transpose(-1, -2), value_layer)\n",
        "\n",
        "    #     # Take the dot product between \"query\" and \"key\" to get the raw attention scores.\n",
        "    #    #attention_scores = torch.matmul(query_layer, key_layer.transpose(-1, -2))\n",
        "    #     attention_scores = attention_scores / math.sqrt(self.attention_head_size)\n",
        "    #     # Apply the attention mask is (precomputed for all layers in BertModel forward() function)\n",
        "    #     attention_scores = attention_scores + attention_mask\n",
        "    #     # Normalize the attention scores to probabilities.\n",
        "    #     #attention_probs = nn.Softmax(dim=-1)(attention_scores)\n",
        "    #     #attention_softmax = attention_probs\n",
        "\n",
        "    #     # This is actually dropping out entreader2 tokens to attend to, which might\n",
        "    #     # seem a bit unusual, but is taken from the original Transformer paper.\n",
        "    #     #attention_probs = self.dropout(attention_probs)\n",
        "\n",
        "    #     context_layer = torch.matmul(query_layer_hat, attention_scores)\n",
        "    #     B, n_tok, n_embd = query_layer.size()\n",
        "    #     attention_scores = context_layer / n_embd\n",
        "\n",
        "    #     context_layer = context_layer.permute(0, 2, 1, 3).contiguous()\n",
        "    #     new_context_layer_shape = context_layer.size()[:-2] + (self.all_head_size,)\n",
        "    #     context_layer = context_layer.view(*new_context_layer_shape)\n",
        "    #     return context_layer, attention_scores\n",
        "\n",
        "\n",
        "class BertSelfOutput(nn.Module):\n",
        "    def __init__(self, config):\n",
        "        super(BertSelfOutput, self).__init__()\n",
        "        self.dense = nn.Linear(config.hidden_size, config.hidden_size)\n",
        "        self.LayerNorm = BertLayerNorm(config.hidden_size, eps=1e-12)\n",
        "        self.dropout = nn.Dropout(config.hidden_dropout_prob)\n",
        "\n",
        "    def forward(self, hidden_states, input_tensor):\n",
        "        hidden_states = self.dense(hidden_states)\n",
        "        hidden_states = self.dropout(hidden_states)\n",
        "        hidden_states = self.LayerNorm(hidden_states + input_tensor)\n",
        "        return hidden_states\n",
        "\n",
        "\n",
        "class BertAttention(nn.Module):\n",
        "    def __init__(self, config):\n",
        "        super(BertAttention, self).__init__()\n",
        "        self.self = BertSelfAttention(config)\n",
        "        self.output = BertSelfOutput(config)\n",
        "\n",
        "    def forward(self, input_tensor, attention_mask):\n",
        "        self_output, attention_probs = self.self(input_tensor, attention_mask)\n",
        "        attention_output = self.output(self_output, input_tensor)\n",
        "        return attention_output, attention_probs\n",
        "\n",
        "\n",
        "class BertIntermediate(nn.Module):\n",
        "    def __init__(self, config):\n",
        "        super(BertIntermediate, self).__init__()\n",
        "        self.dense = nn.Linear(config.hidden_size, config.intermediate_size)\n",
        "        self.intermediate_act_fn = ACT2FN[config.hidden_act] \\\n",
        "            if isinstance(config.hidden_act, str) else config.hidden_act\n",
        "\n",
        "    def forward(self, hidden_states):\n",
        "        hidden_states = self.dense(hidden_states)\n",
        "        hidden_states = self.intermediate_act_fn(hidden_states)\n",
        "        return hidden_states\n",
        "\n",
        "\n",
        "class BertOutput(nn.Module):\n",
        "    def __init__(self, config):\n",
        "        super(BertOutput, self).__init__()\n",
        "        self.dense = nn.Linear(config.intermediate_size, config.hidden_size)\n",
        "        self.LayerNorm = BertLayerNorm(config.hidden_size, eps=1e-12)\n",
        "        self.dropout = nn.Dropout(config.hidden_dropout_prob)\n",
        "\n",
        "    def forward(self, hidden_states, input_tensor):\n",
        "        hidden_states = self.dense(hidden_states)\n",
        "        hidden_states = self.dropout(hidden_states)\n",
        "        hidden_states = self.LayerNorm(hidden_states + input_tensor)\n",
        "        return hidden_states\n",
        "\n",
        "\n",
        "class BertLayer(nn.Module):\n",
        "    def __init__(self, config):\n",
        "        super(BertLayer, self).__init__()\n",
        "        self.attention = BertAttention(config)\n",
        "        self.intermediate = BertIntermediate(config)\n",
        "        self.output = BertOutput(config)\n",
        "\n",
        "    def forward(self, hidden_states, attention_mask):\n",
        "        attention_output, attention_probs = self.attention(hidden_states, attention_mask)\n",
        "        intermediate_output = self.intermediate(attention_output)\n",
        "        layer_output = self.output(intermediate_output, attention_output)\n",
        "        return layer_output, attention_probs\n",
        "\n",
        "\n",
        "class BertEncoder(nn.Module):\n",
        "    def __init__(self, config):\n",
        "        super(BertEncoder, self).__init__()\n",
        "        layer = BertLayer(config)\n",
        "        self.layer = nn.ModuleList([copy.deepcopy(layer) for _ in range(config.num_hidden_layers)])\n",
        "\n",
        "    def forward(self, hidden_states, attention_mask, output_all_encoded_layers=True):\n",
        "        all_encoder_layers = []\n",
        "        for layer_module in self.layer:\n",
        "            hidden_states, attention_probs = layer_module(hidden_states, attention_mask)\n",
        "\n",
        "            if output_all_encoded_layers:\n",
        "                all_encoder_layers.append(hidden_states)\n",
        "        if not output_all_encoded_layers:\n",
        "            all_encoder_layers.append(hidden_states)\n",
        "        return all_encoder_layers\n",
        "\n",
        "class BertPooler(nn.Module):\n",
        "    def __init__(self, config):\n",
        "        super(BertPooler, self).__init__()\n",
        "        self.dense = nn.Linear(config.hidden_size, config.hidden_size)\n",
        "        self.activation = nn.Tanh()\n",
        "\n",
        "    def forward(self, hidden_states):\n",
        "        # We \"pool\" the model by simply taking the hidden state corresponding\n",
        "        # to the first token.\n",
        "        first_token_tensor = hidden_states[:, 0]\n",
        "        pooled_output = self.dense(first_token_tensor)\n",
        "        pooled_output = self.activation(pooled_output)\n",
        "        return pooled_output\n",
        "\n",
        "\n",
        "class BertPredictionHeadTransform(nn.Module):\n",
        "    def __init__(self, config):\n",
        "        super(BertPredictionHeadTransform, self).__init__()\n",
        "        self.dense = nn.Linear(config.hidden_size, config.hidden_size)\n",
        "        self.transform_act_fn = ACT2FN[config.hidden_act] \\\n",
        "            if isinstance(config.hidden_act, str) else config.hidden_act\n",
        "        self.LayerNorm = BertLayerNorm(config.hidden_size, eps=1e-12)\n",
        "\n",
        "    def forward(self, hidden_states):\n",
        "        hidden_states = self.dense(hidden_states)\n",
        "        hidden_states = self.transform_act_fn(hidden_states)\n",
        "        hidden_states = self.LayerNorm(hidden_states)\n",
        "        return hidden_states\n",
        "\n",
        "\n",
        "class BertLMPredictionHead(nn.Module):\n",
        "    def __init__(self, config, bert_model_embedding_weights):\n",
        "        super(BertLMPredictionHead, self).__init__()\n",
        "        self.transform = BertPredictionHeadTransform(config)\n",
        "\n",
        "        # The output weights are the same as the input embeddings, but thretriever is\n",
        "        # an output-only bias for each token.\n",
        "        self.decoder = nn.Linear(bert_model_embedding_weights.size(1),\n",
        "                                 bert_model_embedding_weights.size(0),\n",
        "                                 bias=False)\n",
        "        self.decoder.weight = bert_model_embedding_weights\n",
        "        self.bias = nn.Parameter(torch.zeros(bert_model_embedding_weights.size(0)))\n",
        "\n",
        "    def forward(self, hidden_states):\n",
        "        hidden_states = self.transform(hidden_states)\n",
        "        hidden_states = self.decoder(hidden_states) + self.bias\n",
        "        return hidden_states\n",
        "\n",
        "\n",
        "class BertOnlyMLMHead(nn.Module):\n",
        "    def __init__(self, config, bert_model_embedding_weights):\n",
        "        super(BertOnlyMLMHead, self).__init__()\n",
        "        self.predictions = BertLMPredictionHead(config, bert_model_embedding_weights)\n",
        "\n",
        "    def forward(self, sequence_output):\n",
        "        prediction_scores = self.predictions(sequence_output)\n",
        "        return prediction_scores\n",
        "\n",
        "\n",
        "class BertOnlyNSPHead(nn.Module):\n",
        "    def __init__(self, config):\n",
        "        super(BertOnlyNSPHead, self).__init__()\n",
        "        self.seq_relationship = nn.Linear(config.hidden_size, 2)\n",
        "\n",
        "    def forward(self, pooled_output):\n",
        "        seq_relationship_score = self.seq_relationship(pooled_output)\n",
        "        return seq_relationship_score\n",
        "\n",
        "\n",
        "class BertPreTrainingHeads(nn.Module):\n",
        "    def __init__(self, config, bert_model_embedding_weights):\n",
        "        super(BertPreTrainingHeads, self).__init__()\n",
        "        self.predictions = BertLMPredictionHead(config, bert_model_embedding_weights)\n",
        "        self.seq_relationship = nn.Linear(config.hidden_size, 2)\n",
        "\n",
        "    def forward(self, sequence_output, pooled_output):\n",
        "        prediction_scores = self.predictions(sequence_output)\n",
        "        seq_relationship_score = self.seq_relationship(pooled_output)\n",
        "        return prediction_scores, seq_relationship_score\n",
        "\n",
        "class MyTransformer(nn.Module):\n",
        "    def __init__(self, dim, num_attention_heads, num_hidden_layers):\n",
        "        super(MyTransformer, self).__init__()\n",
        "        config = Config()\n",
        "        config.num_hidden_layers = num_hidden_layers\n",
        "        config.hidden_size = dim\n",
        "        config.num_attention_heads = num_attention_heads\n",
        "        self.encoder = BertEncoder(config)\n",
        "        self.pooler = BertPooler(config)\n",
        "\n",
        "    def forward(self, embedding_output, attention_mask, output_all_encoded_layers=False):\n",
        "\n",
        "        extended_attention_mask = attention_mask.unsqueeze(1).unsqueeze(2)\n",
        "        extended_attention_mask = extended_attention_mask.to(dtype=next(self.parameters()).dtype)  # fp16 compatibility\n",
        "        extended_attention_mask = (1.0 - extended_attention_mask) * -10000.0\n",
        "        encoded_layers = self.encoder(embedding_output,\n",
        "                                      extended_attention_mask,\n",
        "                                      output_all_encoded_layers=output_all_encoded_layers)\n",
        "        sequence_output = encoded_layers[-1]\n",
        "        pooled_output = self.pooler(sequence_output)\n",
        "        if not output_all_encoded_layers:\n",
        "            encoded_layers = encoded_layers[-1]\n",
        "        return encoded_layers, pooled_output\n",
        "\n",
        "class Config():\n",
        "    def __init__(self):\n",
        "        self.attention_probs_dropout_prob = 0.2\n",
        "        self.hidden_act = \"relu\"\n",
        "        self.hidden_dropout_prob = 0.2\n",
        "        self.hidden_size = 768\n",
        "        self.initializer_range = 0.02\n",
        "        self.max_position_embeddings = 513\n",
        "        self.num_attention_heads = 16\n",
        "        # self.num_attention_heads = 12\n",
        "        # self.num_attention_heads = 8\n",
        "        self.num_hidden_layers = 1\n",
        "        self.type_vocab_size = 2\n",
        "        self.layer_norm_eps = 1e-05\n",
        "        self.intermediate_size = 3072\n",
        "\n",
        "class MultiModalMapping(nn.Module):\n",
        "    def __init__(self, dim):\n",
        "        super(MultiModalMapping, self).__init__()\n",
        "        self.dense = nn.Linear(dim, dim * 4)\n",
        "        self.dense_output = nn.Linear(dim * 4, dim)\n",
        "        self.intermediate_act_fn = ACT2FN['relu']\n",
        "        self.LayerNorm = BertLayerNorm(dim, eps=1e-12)\n",
        "        self.dropout = nn.Dropout(0.2)\n",
        "\n",
        "    def forward(self, hidden_states):\n",
        "        hidden_states0 = hidden_states\n",
        "        hidden_states = self.dense(hidden_states)\n",
        "        hidden_states = self.intermediate_act_fn(hidden_states)\n",
        "        hidden_states = self.dense_output(hidden_states)\n",
        "        hidden_states = self.dropout(hidden_states)\n",
        "        hidden_states = self.LayerNorm(hidden_states + hidden_states0)\n",
        "        return hidden_states\n",
        "\n",
        "\n",
        "    # def __init__(self, dim):\n",
        "    #     super(MultiModalMapping, self).__init__()\n",
        "    #     self.fc1 = nn.Linear(dim, 4*dim)\n",
        "    #     self.fc2 = nn.Linear(4*dim, dim)\n",
        "    #     self.fc3 = nn.Linear(dim, dim)\n",
        "    #     self.fc4 = nn.Linear(dim, dim)\n",
        "    #     self.relu = nn.ReLU()\n",
        "    #     self.layer_norm = BertLayerNorm(dim)\n",
        "    #     self.dropout = nn.Dropout(0.5)\n",
        "    #     # nn.Conv1d(in_channels=dim, out_channels=dim, kernel_size=)\n",
        "    #     self.fake_conv = nn.Linear(3, 1)\n",
        "    #\n",
        "    #\n",
        "    # def forward(self, hidden_states):\n",
        "    #     hidden_states = self.layer_norm(hidden_states)\n",
        "    #     h1 = self.fc1(hidden_states)\n",
        "    #     h1 = self.dropout(h1)\n",
        "    #     h2 = self.layer_norm(self.fc2(h1))\n",
        "    #     # h3 = self.layer_norm(self.fc3(h2))\n",
        "    #     # h4 = self.layer_norm(self.fc4(h3))\n",
        "    #     h = self.relu(h2)\n",
        "    #     return h\n",
        "    #     # stack = torch.cat([h2.unsqueeze(dim=-1), h3.unsqueeze(dim=-1), h4.unsqueeze(dim=-1)], dim=3)\n",
        "    #     # h = self.fake_conv(stack)\n",
        "    #     # h = h.view(h.size(0), h.size(1), h.size(2))\n",
        "    #     # h = self.relu(h)\n",
        "    #     # return h\n",
        "\n",
        "\n",
        "class SemanticMatch(nn.Module):\n",
        "    def __init__(self, dim, layer_num):\n",
        "        super(SemanticMatch, self).__init__()\n",
        "        dpda_layer = DPDALayear(dim)\n",
        "        self.q_o = nn.ModuleList([copy.deepcopy(dpda_layer) for _ in range(layer_num)])\n",
        "        self.linear = nn.Linear(2 * dim, dim)\n",
        "        self.relu = nn.ReLU()\n",
        "        self.tanh = nn.Tanh()\n",
        "\n",
        "    def forward(self, q, o, mask_q, mask_o):\n",
        "        for layer_module in self.q_o:\n",
        "            q, o, q_weight, o_weight = layer_module(q, o, mask_q, mask_o)\n",
        "        q, _ = torch.max(q, dim=1)\n",
        "        o, _ = torch.max(o, dim=1)\n",
        "        q_o = self.get_vector(q, o)\n",
        "        return q_o, q_weight, o_weight\n",
        "\n",
        "    def get_vector(self, v1, v2):\n",
        "        p_b = torch.cat([v1, v2], dim=1)  # 2*dim\n",
        "        p_b = self.linear(p_b)  # dim\n",
        "        p_b = self.relu(p_b)\n",
        "        return p_b\n",
        "\n",
        "\n",
        "class DPDALayear(nn.Module):\n",
        "    def __init__(self, dim):\n",
        "        super(DPDALayear, self).__init__()\n",
        "        self.W_p = nn.Linear(2 * dim, dim)\n",
        "        self.W_q = nn.Linear(2 * dim, dim)\n",
        "        self.W_map = nn.Linear(dim, dim)\n",
        "\n",
        "\n",
        "    def forward(self, P, Q, p_mask=None, q_mask=None):\n",
        "        # P = self.W_map(P)\n",
        "        P_ori = P\n",
        "        Q_ori = Q\n",
        "        A = torch.matmul(P, Q.transpose(dim0=1, dim1=2))  # batch, l_p, l_q\n",
        "\n",
        "        if p_mask is not None:\n",
        "            p_mask = p_mask.float()\n",
        "            p_mask = 1 - p_mask\n",
        "            p_mask = p_mask * -10000.0\n",
        "            p_mask = p_mask.unsqueeze(dim=2)\n",
        "            p_mask = p_mask.expand_as(A)\n",
        "            A = A + p_mask\n",
        "            A = A.to(P.dtype)\n",
        "\n",
        "        if q_mask is not None:\n",
        "            q_mask = q_mask.float()\n",
        "            q_mask = 1 - q_mask\n",
        "            q_mask = q_mask * -10000.0\n",
        "            q_mask = q_mask.unsqueeze(dim=1)\n",
        "            q_mask = q_mask.expand_as(A)\n",
        "            A = A + q_mask\n",
        "            A = A.to(Q.dtype)\n",
        "\n",
        "        p_weight, _ = torch.max(A, dim=2)\n",
        "        q_weight, _ = torch.max(A, dim=1)\n",
        "        # if p_mask is not None:\n",
        "        #     p_weight *= p_mask\n",
        "        # if q_mask is not None:\n",
        "        #     q_weight *= q_mask\n",
        "\n",
        "\n",
        "        A_q = torch.softmax(A, dim=2)  # l_p, l_q\n",
        "        A_p = torch.softmax(A.transpose(dim0=1, dim1=2), dim=2)  # l_q, l_p\n",
        "\n",
        "        P_q = torch.matmul(A_q, Q)  # l_p, dim\n",
        "        Q_p = torch.matmul(A_p, P)  # l_q, dim\n",
        "\n",
        "        P_t = torch.cat([P_q, P], dim=2)  # l_p, 2*dim\n",
        "        Q_t = torch.cat([Q_p, Q], dim=2)  # l_q, 2*dim\n",
        "\n",
        "        Q = torch.matmul(A_p, P_t)  # l_q, 2*dim\n",
        "        P = torch.matmul(A_q, Q_t)  # l_p, 2*dim\n",
        "        P = P_ori + self.W_p(P)  # l_p, dim\n",
        "        layer_norm = nn.LayerNorm(normalized_shape=[P.size(-2), P.size(-1)],elementwise_affine=False)\n",
        "        P = layer_norm(P)\n",
        "        Q = Q_ori + self.W_q(Q)  # l_q, dim\n",
        "        layer_norm = nn.LayerNorm(normalized_shape=[Q.size(-2), Q.size(-1)],elementwise_affine=False)\n",
        "        Q = layer_norm(Q)\n",
        "        return P, Q, p_weight, q_weight\n",
        "\n",
        "\n"
      ]
    },
    {
      "cell_type": "markdown",
      "id": "c4357861",
      "metadata": {
        "papermill": {
          "duration": 0.005652,
          "end_time": "2024-03-13T04:34:46.113676",
          "exception": false,
          "start_time": "2024-03-13T04:34:46.108024",
          "status": "completed"
        },
        "tags": [],
        "id": "c4357861"
      },
      "source": [
        "**modeling_genmc.py**"
      ]
    },
    {
      "cell_type": "code",
      "execution_count": null,
      "id": "18c438a2",
      "metadata": {
        "execution": {
          "iopub.execute_input": "2024-03-13T04:34:46.127285Z",
          "iopub.status.busy": "2024-03-13T04:34:46.126945Z",
          "iopub.status.idle": "2024-03-13T04:34:49.551106Z",
          "shell.execute_reply": "2024-03-13T04:34:49.550348Z"
        },
        "papermill": {
          "duration": 3.433789,
          "end_time": "2024-03-13T04:34:49.553412",
          "exception": false,
          "start_time": "2024-03-13T04:34:46.119623",
          "status": "completed"
        },
        "tags": [],
        "id": "18c438a2"
      },
      "outputs": [],
      "source": [
        "#coding=utf-8\n",
        "from transformers import T5ForConditionalGeneration\n",
        "from transformers.file_utils import ModelOutput\n",
        "import torch\n",
        "#from .modeling_transformer import MyTransformer, SexnticMatch\n",
        "from torch import nn\n",
        "\n",
        "device = torch.device(\"cuda:0\")\n",
        "class GenMC(nn.Module):\n",
        "    def __init__(self, model_path, num_hidden_layers, alpha, beta):\n",
        "        super(GenMC, self).__init__()\n",
        "        self.alpha = alpha\n",
        "        self.beta = beta\n",
        "\n",
        "        device = torch.device(\"cuda:0\")\n",
        "        self.t5_model = T5ForConditionalGeneration.from_pretrained(model_path)\n",
        "        dim = self.t5_model.config.d_model\n",
        "        self.option_linear = nn.Linear(dim, 1).to(device)\n",
        "        self.option_linear.device = device\n",
        "        self.criterion = nn.CrossEntropyLoss()\n",
        "        self.semantic_matching = SemanticMatch(dim, num_hidden_layers).to(device)\n",
        "        self.semantic_matching.device = device\n",
        "        num_attention_heads = dim // 64    #original: // 64\n",
        "        self.transformer_laryer_de = MyTransformer(dim, num_attention_heads, num_hidden_layers).to(device)\n",
        "        self.transformer_laryer_de.device = device\n",
        "        self.relu = nn.ReLU()\n",
        "\n",
        "        n_gpu = torch.cuda.device_count()\n",
        "        layer_num = self.t5_model.config.num_layers\n",
        "        layer_per_gpu = layer_num // n_gpu\n",
        "        layer_per_gpu_remainder = layer_num % n_gpu\n",
        "        device_map = {}\n",
        "        cur_layer = 0\n",
        "        for n in range(n_gpu):\n",
        "            device_map[n] = []\n",
        "            if n < layer_per_gpu_remainder:\n",
        "                layer_assigned = layer_per_gpu+1\n",
        "            else:\n",
        "                layer_assigned = layer_per_gpu\n",
        "\n",
        "            for i in range(layer_assigned):\n",
        "                device_map[n].append(cur_layer)\n",
        "                cur_layer += 1\n",
        "        self.t5_model.parallelize(device_map)\n",
        "\n",
        "\n",
        "    def forward(self, q_ids, q_mask, qo_ids, qo_mask, choice_num, clue_ids=None, clue_content_ids=None, clue_content_mask=None, answers=None):\n",
        "        self.choice_num = choice_num\n",
        "        if answers is not None and clue_ids is not None and clue_content_ids is not None and clue_content_mask is not None:\n",
        "            opt_score, output_sequences = self.get_option_score(q_ids, q_mask, qo_ids, qo_mask)\n",
        "            local_device = self.t5_model.device\n",
        "            t5_output = self.t5_model(input_ids=clue_content_ids.to(local_device), attention_mask=clue_content_mask.to(local_device),\n",
        "                                      labels=clue_ids.to(local_device))\n",
        "            loss_ans = t5_output.loss\n",
        "            loss = self.criterion(opt_score, answers)\n",
        "            return self.alpha * loss + self.beta * loss_ans\n",
        "        else:\n",
        "            opt_score, output_sequences = self.get_option_score(q_ids, q_mask, qo_ids, qo_mask)\n",
        "            return opt_score, output_sequences\n",
        "\n",
        "    def get_option_score(self, q_ids, q_mask, qo_ids, qo_mask):\n",
        "        local_device = self.t5_model.encoder.device\n",
        "        t5_output = self.t5_model.encoder(input_ids=qo_ids.to(local_device), attention_mask=qo_mask.to(local_device))\n",
        "        encoder_qo = t5_output[0]\n",
        "\n",
        "        t5_output = self.t5_model.encoder(input_ids=q_ids.to(local_device), attention_mask=q_mask.to(local_device))\n",
        "        encoder_q = t5_output[0]\n",
        "        local_device = self.t5_model.device\n",
        "        t5_output = self.t5_model.generate(\n",
        "            encoder_outputs=ModelOutput(last_hidden_state=encoder_q.to(local_device)),\n",
        "            attention_mask=q_mask.to(local_device),\n",
        "            do_sample=False,\n",
        "            output_hidden_states=True,\n",
        "            return_dict_in_generate=True\n",
        "        )\n",
        "        output_sequences = t5_output.sequences\n",
        "        output_sequences = output_sequences[:, 1:].contiguous()\n",
        "        decoder_o = t5_output.decoder_hidden_states\n",
        "        decoder_o = [item[-1] for item in decoder_o]\n",
        "        decoder_o = torch.cat(decoder_o, dim=1)\n",
        "\n",
        "        output_sequences_mask1 = output_sequences != 0\n",
        "        output_sequences_mask2 = output_sequences != 1\n",
        "        output_sequences_mask = output_sequences_mask1 * output_sequences_mask2\n",
        "        output_sequences_mask = output_sequences_mask.long()\n",
        "        decoder_qo = torch.cat([encoder_q, decoder_o], dim=1)\n",
        "        output_sequences_mask = torch.cat([q_mask, output_sequences_mask], dim=1)\n",
        "        local_device = self.transformer_laryer_de.device\n",
        "        decoder_qo, _ = self.transformer_laryer_de(decoder_qo.to(local_device), output_sequences_mask.to(local_device))\n",
        "        output_sequences_mask_ex = output_sequences_mask.unsqueeze(dim=1)\n",
        "        output_sequences_mask_ex = output_sequences_mask_ex.expand(\n",
        "            [output_sequences_mask_ex.size(0), self.choice_num, output_sequences_mask_ex.size(-1)]).contiguous()\n",
        "        output_sequences_mask_ex = output_sequences_mask_ex.view(-1, output_sequences_mask.size(-1))\n",
        "        decoder_qo = decoder_qo.unsqueeze(dim=1)\n",
        "        decoder_qo = decoder_qo.expand(\n",
        "            [decoder_qo.size(0), self.choice_num, decoder_qo.size(-2), decoder_qo.size(-1)]).contiguous()\n",
        "        decoder_qo = decoder_qo.view(-1, decoder_qo.size(-2), decoder_qo.size(-1))\n",
        "        local_device = self.semantic_matching.device\n",
        "        semantic_vec, _, _ = self.semantic_matching(encoder_qo.to(local_device), decoder_qo.to(local_device),\n",
        "                                                    qo_mask.to(local_device), output_sequences_mask_ex.to(local_device))\n",
        "        local_device = self.option_linear.device\n",
        "        opt_score = self.option_linear(semantic_vec.to(local_device)).view(-1, self.choice_num)\n",
        "\n",
        "        return opt_score, output_sequences\n"
      ]
    },
    {
      "cell_type": "markdown",
      "id": "5c5be5b3",
      "metadata": {
        "papermill": {
          "duration": 0.005693,
          "end_time": "2024-03-13T04:34:49.565408",
          "exception": false,
          "start_time": "2024-03-13T04:34:49.559715",
          "status": "completed"
        },
        "tags": [],
        "id": "5c5be5b3"
      },
      "source": [
        "**run_genmc.py**"
      ]
    },
    {
      "cell_type": "code",
      "execution_count": null,
      "id": "74a139ea",
      "metadata": {
        "execution": {
          "iopub.execute_input": "2024-03-13T04:34:49.578426Z",
          "iopub.status.busy": "2024-03-13T04:34:49.577964Z",
          "iopub.status.idle": "2024-03-13T04:34:49.661118Z",
          "shell.execute_reply": "2024-03-13T04:34:49.659906Z"
        },
        "papermill": {
          "duration": 0.092321,
          "end_time": "2024-03-13T04:34:49.663609",
          "exception": false,
          "start_time": "2024-03-13T04:34:49.571288",
          "status": "completed"
        },
        "tags": [],
        "id": "74a139ea",
        "outputId": "d6a0ce89-2fc3-4ece-9cc4-f3eeeced81f1"
      },
      "outputs": [
        {
          "name": "stdout",
          "output_type": "stream",
          "text": [
            "************Torch version: 2.1.2\n",
            "************Is CUDA enabled? True\n"
          ]
        }
      ],
      "source": [
        "# coding=utf-8\n",
        "from transformers import T5Tokenizer\n",
        "from tqdm import trange\n",
        "import os\n",
        "import random\n",
        "import torch\n",
        "#from utils import compute_rouges, save_dataset, read_dataset, set_seed, save_model\n",
        "#from model.modeling_genmc import GenMC\n",
        "import json\n",
        "import argparse\n",
        "\n",
        "device = torch.device(\"cuda:0\")\n",
        "print(\"************Torch version:\",torch.__version__)\n",
        "print(\"************Is CUDA enabled?\",torch.cuda.is_available())"
      ]
    },
    {
      "cell_type": "code",
      "execution_count": null,
      "id": "cdfd0868",
      "metadata": {
        "papermill": {
          "duration": 0.005969,
          "end_time": "2024-03-13T04:34:49.675931",
          "exception": false,
          "start_time": "2024-03-13T04:34:49.669962",
          "status": "completed"
        },
        "tags": [],
        "id": "cdfd0868"
      },
      "outputs": [],
      "source": []
    },
    {
      "cell_type": "code",
      "execution_count": null,
      "id": "583e1cc6",
      "metadata": {
        "execution": {
          "iopub.execute_input": "2024-03-13T04:34:49.689480Z",
          "iopub.status.busy": "2024-03-13T04:34:49.689150Z",
          "iopub.status.idle": "2024-03-13T04:34:49.715544Z",
          "shell.execute_reply": "2024-03-13T04:34:49.714698Z"
        },
        "papermill": {
          "duration": 0.035603,
          "end_time": "2024-03-13T04:34:49.717563",
          "exception": false,
          "start_time": "2024-03-13T04:34:49.681960",
          "status": "completed"
        },
        "tags": [],
        "id": "583e1cc6"
      },
      "outputs": [],
      "source": [
        "def get_input_feature(samples, max_source_length, max_len_gen, choice_num, external_sent_num=None):\n",
        "    sep = ' \\\\n '\n",
        "    output_clue = []\n",
        "    answers = []\n",
        "    input_ids_q, attention_mask_q = [], []\n",
        "    input_ids_qo, attention_mask_qo = [], []\n",
        "    input_clue_content_ids, attention_mask_clue_content = [], []\n",
        "    for sample in samples:\n",
        "        if 'answerKey' in sample:\n",
        "            answerKey = sample['answerKey']\n",
        "        else:\n",
        "            answerKey = \"A\"\n",
        "        question = sample['question']['stem']\n",
        "        while len(sample['question']['choices']) < choice_num:\n",
        "            sample['question']['choices'].append({\"text\": \"error\", \"para\": \"\", \"label\":chr(ord('A')+len(sample)-1)})\n",
        "\n",
        "        content_for_clue = \"\"\n",
        "        for o_i, (opt, opt_name) in enumerate(zip(sample['question']['choices'], 'ABCDEFGH'[:choice_num])):\n",
        "            option = opt['text']\n",
        "            content = \"\"\n",
        "            if external_sent_num is not None and 'para' in opt:\n",
        "                para = opt[\"para\"]\n",
        "                if isinstance(para, list):\n",
        "                    if len(para) > external_sent_num:\n",
        "                        #print(\"yes\")\n",
        "                        para = para[:external_sent_num]\n",
        "\n",
        "                    content = sep + \" \".join(para)\n",
        "                    if option == answerKey:\n",
        "                        print(\"hey\")\n",
        "                        content_for_clue = sep + \" \".join(para)\n",
        "                elif isinstance(para, str):\n",
        "                    para = para.split(\".\")\n",
        "                    if len(para) > external_sent_num:\n",
        "                        para = para[:external_sent_num]\n",
        "                    content = sep + \" \".join(para)\n",
        "                    if option == answerKey:\n",
        "                        print(\"hi\")\n",
        "                        content_for_clue = sep + \" \".join(para)\n",
        "                else:\n",
        "                    print('lack retrieval')\n",
        "                    # exit(0)\n",
        "            input_ids_qo.append(question + sep + option + content)\n",
        "\n",
        "\n",
        "        input_ids_q.append(question + sep)\n",
        "        input_clue_content_ids.append(question + sep + content_for_clue)\n",
        "\n",
        "        if answerKey in '123456':\n",
        "            answer = ord(answerKey) - ord('1')\n",
        "        else:\n",
        "            answer = ord(answerKey) - ord('A')\n",
        "        answers.append(answer)\n",
        "        output_clue.append(sample['question']['choices'][answer]['text'])\n",
        "\n",
        "    def tokenizer_fun(input_ids, max_len):\n",
        "        encoding = tokenizer(input_ids,\n",
        "                             padding='longest',\n",
        "                             max_length=max_len,\n",
        "                             truncation=True,\n",
        "                             return_tensors=\"pt\")\n",
        "        ids = encoding.input_ids.to(device)\n",
        "        mask = encoding.attention_mask.to(device)\n",
        "        return ids, mask\n",
        "\n",
        "    q_ids, q_mask = tokenizer_fun(input_ids_q, max_source_length)\n",
        "    qo_ids, qo_mask = tokenizer_fun(input_ids_qo, max_source_length)\n",
        "    clue_content_ids, clue_content_mask = tokenizer_fun(input_clue_content_ids, max_source_length)\n",
        "    clue_ids, _ = tokenizer_fun(output_clue, max_len_gen)\n",
        "    clue_ids = [\n",
        "        [(label if label != tokenizer.pad_token_id else -100) for label in labels_example] for labels_example in\n",
        "        clue_ids\n",
        "    ]\n",
        "    clue_ids = torch.tensor(clue_ids, dtype=torch.long).to(device)\n",
        "    answers = torch.tensor(answers, dtype=torch.long).to(device)\n",
        "    return q_ids, q_mask, qo_ids, qo_mask, clue_ids, clue_content_ids, clue_content_mask, answers, output_clue\n",
        "\n",
        "\n",
        "@torch.no_grad()\n",
        "def eval(model, test_examples, tokenizer, eval_batch_size, choice_num, max_len, max_len_gen, external_sent_num):\n",
        "    count, count_right = 0, 0\n",
        "    results = []\n",
        "    model.eval()\n",
        "    step_count = len(test_examples) // eval_batch_size\n",
        "    if step_count * eval_batch_size < len(test_examples):\n",
        "        step_count += 1\n",
        "    step_trange = trange(step_count)\n",
        "    sources, targets = [], []\n",
        "    for step in step_trange:\n",
        "        beg_index = step * eval_batch_size\n",
        "        end_index = min((step + 1) * eval_batch_size, len(test_examples))\n",
        "        batch_example = [example for example in test_examples[beg_index:end_index]]\n",
        "        q_ids, q_mask, qo_ids, qo_mask, clue_ids, clue_content_ids, clue_content_mask, answers, output_clue = get_input_feature(batch_example,\n",
        "                                                                                           max_len, max_len_gen,\n",
        "                                                                                           args_choice_num,\n",
        "                                                                                           external_sent_num)\n",
        "        scores, output_sequences = model(q_ids, q_mask, qo_ids, qo_mask, choice_num)\n",
        "\n",
        "        scores = scores.cpu().detach().tolist()\n",
        "        answers = answers.cpu().detach().tolist()\n",
        "        p_anss = []\n",
        "        for p, a, example in zip(scores, answers, batch_example):\n",
        "            p_ans = p.index(max(p))\n",
        "            p_anss.append(example['question']['choices'][p_ans]['label'])\n",
        "            if p_ans == a:\n",
        "                count_right += 1\n",
        "            count += 1\n",
        "        for sample, p_ans in zip(batch_example, p_anss):\n",
        "            qid = sample['id']\n",
        "            results.append(qid + \",\" + p_ans)\n",
        "        predicts = tokenizer.batch_decode(output_sequences, skip_special_tokens=True)\n",
        "        sources += predicts\n",
        "        targets += output_clue\n",
        "\n",
        "    rouge_score = compute_rouges(sources, targets)['rouge-l']\n",
        "\n",
        "    return count_right / count, rouge_score, results"
      ]
    },
    {
      "cell_type": "code",
      "execution_count": null,
      "id": "12befa4e",
      "metadata": {
        "execution": {
          "iopub.execute_input": "2024-03-13T04:34:49.731186Z",
          "iopub.status.busy": "2024-03-13T04:34:49.730871Z",
          "iopub.status.idle": "2024-03-13T04:34:49.734906Z",
          "shell.execute_reply": "2024-03-13T04:34:49.734043Z"
        },
        "papermill": {
          "duration": 0.013053,
          "end_time": "2024-03-13T04:34:49.736828",
          "exception": false,
          "start_time": "2024-03-13T04:34:49.723775",
          "status": "completed"
        },
        "tags": [],
        "id": "12befa4e"
      },
      "outputs": [],
      "source": [
        "import matplotlib.pyplot as plt"
      ]
    },
    {
      "cell_type": "code",
      "execution_count": null,
      "id": "b97576bd",
      "metadata": {
        "execution": {
          "iopub.execute_input": "2024-03-13T04:34:49.751224Z",
          "iopub.status.busy": "2024-03-13T04:34:49.750943Z",
          "iopub.status.idle": "2024-03-13T13:11:29.099209Z",
          "shell.execute_reply": "2024-03-13T13:11:29.098271Z"
        },
        "papermill": {
          "duration": 30999.358164,
          "end_time": "2024-03-13T13:11:29.101353",
          "exception": false,
          "start_time": "2024-03-13T04:34:49.743189",
          "status": "completed"
        },
        "tags": [],
        "id": "b97576bd",
        "outputId": "3a1ded79-e02c-4365-c728-99b3ca64b72e",
        "colab": {
          "referenced_widgets": [
            "f33e4fac504242e186032ce52b731fd8",
            "ad20b5fee53d46909899f7d1df84bd06",
            "b2f62170c2b842498203da0e0381a027",
            "96eb0d21fc744b648c7014960ab29786",
            "1877093fb1d94e45abfa307498f68099"
          ]
        }
      },
      "outputs": [
        {
          "data": {
            "application/vnd.jupyter.widget-view+json": {
              "model_id": "f33e4fac504242e186032ce52b731fd8",
              "version_major": 2,
              "version_minor": 0
            },
            "text/plain": [
              "spiece.model:   0%|          | 0.00/792k [00:00<?, ?B/s]"
            ]
          },
          "metadata": {},
          "output_type": "display_data"
        },
        {
          "data": {
            "application/vnd.jupyter.widget-view+json": {
              "model_id": "ad20b5fee53d46909899f7d1df84bd06",
              "version_major": 2,
              "version_minor": 0
            },
            "text/plain": [
              "tokenizer.json:   0%|          | 0.00/1.39M [00:00<?, ?B/s]"
            ]
          },
          "metadata": {},
          "output_type": "display_data"
        },
        {
          "data": {
            "application/vnd.jupyter.widget-view+json": {
              "model_id": "b2f62170c2b842498203da0e0381a027",
              "version_major": 2,
              "version_minor": 0
            },
            "text/plain": [
              "config.json:   0%|          | 0.00/1.21k [00:00<?, ?B/s]"
            ]
          },
          "metadata": {},
          "output_type": "display_data"
        },
        {
          "name": "stderr",
          "output_type": "stream",
          "text": [
            "You are using the default legacy behaviour of the <class 'transformers.models.t5.tokenization_t5.T5Tokenizer'>. This is expected, and simply means that the `legacy` (previous) behavior will be used so nothing changes for you. If you want to use the new behaviour, set `legacy=False`. This should only be set if you understand what it means, and thoroughly read the reason why this was added as explained in https://github.com/huggingface/transformers/pull/24565\n",
            "Special tokens have been added in the vocabulary, make sure the associated word embeddings are fine-tuned or trained.\n"
          ]
        },
        {
          "data": {
            "application/vnd.jupyter.widget-view+json": {
              "model_id": "96eb0d21fc744b648c7014960ab29786",
              "version_major": 2,
              "version_minor": 0
            },
            "text/plain": [
              "model.safetensors:   0%|          | 0.00/892M [00:00<?, ?B/s]"
            ]
          },
          "metadata": {},
          "output_type": "display_data"
        },
        {
          "data": {
            "application/vnd.jupyter.widget-view+json": {
              "model_id": "1877093fb1d94e45abfa307498f68099",
              "version_major": 2,
              "version_minor": 0
            },
            "text/plain": [
              "generation_config.json:   0%|          | 0.00/147 [00:00<?, ?B/s]"
            ]
          },
          "metadata": {},
          "output_type": "display_data"
        },
        {
          "name": "stderr",
          "output_type": "stream",
          "text": [
            "/opt/conda/lib/python3.10/site-packages/transformers/models/t5/modeling_t5.py:1589: FutureWarning: `T5ForConditionalGeneration.parallelize` is deprecated and will be removed in v5 of Transformers, you should load your model with `device_map='balanced'` in the call to `from_pretrained`. You can also provide your own `device_map` but it needs to be a dictionary module_name to device, so for instance {'encoder.block.0': 0, 'encoder.block.1': 1, ...}\n",
            "  warnings.warn(\n",
            "/opt/conda/lib/python3.10/site-packages/transformers/models/t5/modeling_t5.py:930: FutureWarning: `T5Stack.parallelize` is deprecated and will be removed in v5 of Transformers, you should load your model with `device_map='balanced'` in the call to `from_pretrained`. You can also provide your own `device_map` but it needs to be a dictionary module_name to device, so for instance {'block.0': 0, 'block.1': 1, ...}\n",
            "  warnings.warn(\n"
          ]
        },
        {
          "name": "stdout",
          "output_type": "stream",
          "text": [
            "here1\n"
          ]
        },
        {
          "name": "stderr",
          "output_type": "stream",
          "text": [
            "  0%|          | 0/63 [00:00<?, ?it/s]/opt/conda/lib/python3.10/site-packages/transformers/generation/utils.py:1178: UserWarning: Using the model-agnostic default `max_length` (=20) to control the generation length. We recommend setting `max_new_tokens` to control the maximum length of the generation.\n",
            "  warnings.warn(\n",
            "100%|██████████| 63/63 [00:52<00:00,  1.21it/s]\n"
          ]
        },
        {
          "name": "stdout",
          "output_type": "stream",
          "text": [
            "best_dev_acc: 0.27\n",
            "here2\n"
          ]
        },
        {
          "name": "stderr",
          "output_type": "stream",
          "text": [
            "100%|██████████| 620/620 [15:55<00:00,  1.54s/it,  Epoch:0 loss:4.5733]\n",
            "100%|██████████| 620/620 [06:54<00:00,  1.50it/s]\n",
            "100%|██████████| 63/63 [00:43<00:00,  1.44it/s]\n"
          ]
        },
        {
          "name": "stdout",
          "output_type": "stream",
          "text": [
            "train_acc 0.7032479322170668\n",
            "dev_acc: 0.602\n",
            "new best dev acc: 0.602 rouge: 0.36728704276237256\n"
          ]
        },
        {
          "name": "stderr",
          "output_type": "stream",
          "text": [
            "100%|██████████| 620/620 [15:50<00:00,  1.53s/it,  Epoch:1 loss:4.1932]\n",
            "100%|██████████| 620/620 [07:14<00:00,  1.43it/s]\n",
            "100%|██████████| 63/63 [00:44<00:00,  1.40it/s]\n"
          ]
        },
        {
          "name": "stdout",
          "output_type": "stream",
          "text": [
            "train_acc 0.861206374823482\n",
            "dev_acc: 0.636\n",
            "new best dev acc: 0.636 rouge: 0.39037157080422336\n"
          ]
        },
        {
          "name": "stderr",
          "output_type": "stream",
          "text": [
            "100%|██████████| 620/620 [15:53<00:00,  1.54s/it,  Epoch:2 loss:3.8992]\n",
            "100%|██████████| 620/620 [06:55<00:00,  1.49it/s]\n",
            "100%|██████████| 63/63 [00:43<00:00,  1.45it/s]\n"
          ]
        },
        {
          "name": "stdout",
          "output_type": "stream",
          "text": [
            "train_acc 0.9626790397417793\n",
            "dev_acc: 0.652\n",
            "new best dev acc: 0.652 rouge: 0.37894958543705737\n"
          ]
        },
        {
          "name": "stderr",
          "output_type": "stream",
          "text": [
            "100%|██████████| 620/620 [16:03<00:00,  1.55s/it,  Epoch:3 loss:3.6429]\n",
            "100%|██████████| 620/620 [06:58<00:00,  1.48it/s]\n",
            "100%|██████████| 63/63 [00:44<00:00,  1.42it/s]\n"
          ]
        },
        {
          "name": "stdout",
          "output_type": "stream",
          "text": [
            "train_acc 0.9852733508170264\n",
            "dev_acc: 0.65\n"
          ]
        },
        {
          "name": "stderr",
          "output_type": "stream",
          "text": [
            "100%|██████████| 620/620 [15:56<00:00,  1.54s/it,  Epoch:4 loss:3.4187]\n",
            "100%|██████████| 620/620 [06:57<00:00,  1.49it/s]\n",
            "100%|██████████| 63/63 [00:43<00:00,  1.43it/s]\n"
          ]
        },
        {
          "name": "stdout",
          "output_type": "stream",
          "text": [
            "train_acc 0.9931410127093\n",
            "dev_acc: 0.636\n"
          ]
        },
        {
          "name": "stderr",
          "output_type": "stream",
          "text": [
            "100%|██████████| 620/620 [15:54<00:00,  1.54s/it,  Epoch:5 loss:3.2227]\n",
            "100%|██████████| 620/620 [06:56<00:00,  1.49it/s]\n",
            "100%|██████████| 63/63 [00:44<00:00,  1.43it/s]\n"
          ]
        },
        {
          "name": "stdout",
          "output_type": "stream",
          "text": [
            "train_acc 0.9971757111155941\n",
            "dev_acc: 0.642\n"
          ]
        },
        {
          "name": "stderr",
          "output_type": "stream",
          "text": [
            "100%|██████████| 620/620 [15:51<00:00,  1.53s/it,  Epoch:6 loss:3.0482]\n",
            "100%|██████████| 620/620 [06:59<00:00,  1.48it/s]\n",
            "100%|██████████| 63/63 [00:43<00:00,  1.44it/s]\n"
          ]
        },
        {
          "name": "stdout",
          "output_type": "stream",
          "text": [
            "train_acc 0.9983861206374823\n",
            "dev_acc: 0.64\n"
          ]
        },
        {
          "name": "stderr",
          "output_type": "stream",
          "text": [
            "100%|██████████| 620/620 [15:48<00:00,  1.53s/it,  Epoch:7 loss:2.8881]\n",
            "100%|██████████| 620/620 [06:47<00:00,  1.52it/s]\n",
            "100%|██████████| 63/63 [00:42<00:00,  1.47it/s]\n"
          ]
        },
        {
          "name": "stdout",
          "output_type": "stream",
          "text": [
            "train_acc 0.9947548920718177\n",
            "dev_acc: 0.642\n"
          ]
        },
        {
          "name": "stderr",
          "output_type": "stream",
          "text": [
            "100%|██████████| 620/620 [15:43<00:00,  1.52s/it,  Epoch:8 loss:2.7425]\n",
            "100%|██████████| 620/620 [06:49<00:00,  1.51it/s]\n",
            "100%|██████████| 63/63 [00:43<00:00,  1.46it/s]\n"
          ]
        },
        {
          "name": "stdout",
          "output_type": "stream",
          "text": [
            "train_acc 0.9991930603187412\n",
            "dev_acc: 0.632\n"
          ]
        },
        {
          "name": "stderr",
          "output_type": "stream",
          "text": [
            "100%|██████████| 620/620 [15:47<00:00,  1.53s/it,  Epoch:9 loss:2.6076]\n",
            "100%|██████████| 620/620 [06:53<00:00,  1.50it/s]\n",
            "100%|██████████| 63/63 [00:43<00:00,  1.45it/s]\n"
          ]
        },
        {
          "name": "stdout",
          "output_type": "stream",
          "text": [
            "train_acc 0.9979826507968529\n",
            "dev_acc: 0.654\n",
            "new best dev acc: 0.654 rouge: 0.40058400970341546\n"
          ]
        },
        {
          "name": "stderr",
          "output_type": "stream",
          "text": [
            "100%|██████████| 620/620 [15:47<00:00,  1.53s/it,  Epoch:10 loss:2.4817]\n",
            "100%|██████████| 620/620 [06:49<00:00,  1.51it/s]\n",
            "100%|██████████| 63/63 [00:42<00:00,  1.47it/s]\n"
          ]
        },
        {
          "name": "stdout",
          "output_type": "stream",
          "text": [
            "train_acc 0.9989913253984265\n",
            "dev_acc: 0.634\n"
          ]
        },
        {
          "name": "stderr",
          "output_type": "stream",
          "text": [
            "100%|██████████| 620/620 [15:46<00:00,  1.53s/it,  Epoch:11 loss:2.3654]\n",
            "100%|██████████| 620/620 [06:45<00:00,  1.53it/s]\n",
            "100%|██████████| 63/63 [00:43<00:00,  1.46it/s]\n"
          ]
        },
        {
          "name": "stdout",
          "output_type": "stream",
          "text": [
            "train_acc 0.9989913253984265\n",
            "dev_acc: 0.66\n",
            "new best dev acc: 0.66 rouge: 0.4137962025780796\n"
          ]
        },
        {
          "name": "stderr",
          "output_type": "stream",
          "text": [
            "100%|██████████| 620/620 [15:42<00:00,  1.52s/it,  Epoch:12 loss:2.2568]\n",
            "100%|██████████| 620/620 [06:47<00:00,  1.52it/s]\n",
            "100%|██████████| 63/63 [00:42<00:00,  1.48it/s]\n"
          ]
        },
        {
          "name": "stdout",
          "output_type": "stream",
          "text": [
            "train_acc 0.9993947952390558\n",
            "dev_acc: 0.64\n"
          ]
        },
        {
          "name": "stderr",
          "output_type": "stream",
          "text": [
            "100%|██████████| 620/620 [15:40<00:00,  1.52s/it,  Epoch:13 loss:2.1557]\n",
            "100%|██████████| 620/620 [06:47<00:00,  1.52it/s]\n",
            "100%|██████████| 63/63 [00:42<00:00,  1.48it/s]\n"
          ]
        },
        {
          "name": "stdout",
          "output_type": "stream",
          "text": [
            "train_acc 0.9987895904781118\n",
            "dev_acc: 0.622\n"
          ]
        },
        {
          "name": "stderr",
          "output_type": "stream",
          "text": [
            "100%|██████████| 620/620 [15:43<00:00,  1.52s/it,  Epoch:14 loss:2.0603]\n",
            "100%|██████████| 620/620 [06:51<00:00,  1.51it/s]\n",
            "100%|██████████| 63/63 [00:43<00:00,  1.45it/s]\n"
          ]
        },
        {
          "name": "stdout",
          "output_type": "stream",
          "text": [
            "train_acc 0.9995965301593706\n",
            "dev_acc: 0.654\n"
          ]
        },
        {
          "name": "stderr",
          "output_type": "stream",
          "text": [
            "100%|██████████| 620/620 [15:39<00:00,  1.52s/it,  Epoch:15 loss:1.9708]\n",
            "100%|██████████| 620/620 [06:48<00:00,  1.52it/s]\n",
            "100%|██████████| 63/63 [00:43<00:00,  1.46it/s]\n"
          ]
        },
        {
          "name": "stdout",
          "output_type": "stream",
          "text": [
            "train_acc 0.9991930603187412\n",
            "dev_acc: 0.626\n"
          ]
        },
        {
          "name": "stderr",
          "output_type": "stream",
          "text": [
            "100%|██████████| 620/620 [15:43<00:00,  1.52s/it,  Epoch:16 loss:1.887]\n",
            "100%|██████████| 620/620 [06:50<00:00,  1.51it/s]\n",
            "100%|██████████| 63/63 [00:42<00:00,  1.47it/s]\n"
          ]
        },
        {
          "name": "stdout",
          "output_type": "stream",
          "text": [
            "train_acc 0.9993947952390558\n",
            "dev_acc: 0.64\n"
          ]
        },
        {
          "name": "stderr",
          "output_type": "stream",
          "text": [
            "100%|██████████| 620/620 [15:42<00:00,  1.52s/it,  Epoch:17 loss:1.8092]\n",
            "100%|██████████| 620/620 [06:49<00:00,  1.52it/s]\n",
            "100%|██████████| 63/63 [00:42<00:00,  1.50it/s]\n"
          ]
        },
        {
          "name": "stdout",
          "output_type": "stream",
          "text": [
            "train_acc 0.9989913253984265\n",
            "dev_acc: 0.648\n"
          ]
        },
        {
          "name": "stderr",
          "output_type": "stream",
          "text": [
            "100%|██████████| 620/620 [15:43<00:00,  1.52s/it,  Epoch:18 loss:1.7359]\n",
            "100%|██████████| 620/620 [06:47<00:00,  1.52it/s]\n",
            "100%|██████████| 63/63 [00:42<00:00,  1.48it/s]\n"
          ]
        },
        {
          "name": "stdout",
          "output_type": "stream",
          "text": [
            "train_acc 0.9997982650796853\n",
            "dev_acc: 0.634\n"
          ]
        },
        {
          "name": "stderr",
          "output_type": "stream",
          "text": [
            "100%|██████████| 620/620 [15:41<00:00,  1.52s/it,  Epoch:19 loss:1.6671]\n",
            "100%|██████████| 620/620 [06:46<00:00,  1.53it/s]\n",
            "100%|██████████| 63/63 [00:42<00:00,  1.47it/s]\n"
          ]
        },
        {
          "name": "stdout",
          "output_type": "stream",
          "text": [
            "train_acc 0.9997982650796853\n",
            "dev_acc: 0.642\n"
          ]
        },
        {
          "name": "stderr",
          "output_type": "stream",
          "text": [
            "100%|██████████| 620/620 [15:35<00:00,  1.51s/it,  Epoch:20 loss:1.6033]\n",
            "100%|██████████| 620/620 [06:46<00:00,  1.53it/s]\n",
            "100%|██████████| 63/63 [00:42<00:00,  1.48it/s]\n"
          ]
        },
        {
          "name": "stdout",
          "output_type": "stream",
          "text": [
            "train_acc 0.9993947952390558\n",
            "dev_acc: 0.648\n"
          ]
        },
        {
          "name": "stderr",
          "output_type": "stream",
          "text": [
            "100%|██████████| 620/620 [15:33<00:00,  1.50s/it,  Epoch:21 loss:1.543]\n",
            "100%|██████████| 620/620 [06:45<00:00,  1.53it/s]\n",
            "100%|██████████| 63/63 [00:42<00:00,  1.50it/s]\n"
          ]
        },
        {
          "name": "stdout",
          "output_type": "stream",
          "text": [
            "train_acc 0.9995965301593706\n",
            "dev_acc: 0.628\n",
            "best dev acc: 0.66 best_dev_rouge_score: 0.4137962025780796\n"
          ]
        },
        {
          "data": {
            "image/png": "[encoded data removed]",
            "text/plain": [
              "<Figure size 640x480 with 1 Axes>"
            ]
          },
          "metadata": {},
          "output_type": "display_data"
        }
      ],
      "source": [
        "dataset = 'arc_challenge'\n",
        "if __name__ == '__main__':\n",
        "\n",
        "    args_model_path = 't5-base'\n",
        "    args_choice_num = 4\n",
        "    args_train_batch_size = 8 # total batch size for training\n",
        "    args_eval_batch_size = 8 # total batch size for eval\n",
        "    args_gradient_accumulation_steps = 1 # Number of updates steps to accumulate before performing a backward/update pass\n",
        "    args_max_len = 256\n",
        "    args_max_len_gen = 64\n",
        "    args_lr = 1e-4\n",
        "    args_epoch_num = 30\n",
        "    args_num_hidden_layers = 1\n",
        "    args_alpha = 0.5\n",
        "    args_beta = 1\n",
        "    args_seed = 1\n",
        "    args_external_sent_num = 10\n",
        "    args_gpu = \"0\"\n",
        "\n",
        "   # args = parser.parse_args()\n",
        "    file_name = f'lr_{args_lr}_seed_{args_seed}_bs_{args_train_batch_size}_ga_{args_gradient_accumulation_steps}_layer_num_{args_num_hidden_layers}_alpha_{args_alpha}_beta_{args_beta}'\n",
        "    output_model_path = './outputs/' + file_name + \"/\"\n",
        "    path_save_result = './results/' + file_name + \"/\"\n",
        "    os.environ[\"CUDA_DEVICE_ORDER\"] = \"PCI_BUS_ID\"\n",
        "    os.environ[\"CUDA_VISIBLE_DEVICES\"] = args_gpu\n",
        "    os.makedirs(path_save_result, exist_ok=True)\n",
        "    set_seed(args_seed)\n",
        "    train_examples = read_dataset(\"/kaggle/input/openbkqa/train.jsonl\")\n",
        "    dev_examples = read_dataset(\"/kaggle/input/openbkqa/dev.jsonl\")\n",
        "    test_examples = read_dataset(\"/kaggle/input/openbkqa/test.jsonl\")\n",
        "\n",
        "#     print(json.dumps({\"lr\": args.lr, \"model\": args.model_path, \"seed\": args.seed,\n",
        "#                       \"bs\": args.train_batch_size,\n",
        "#                       'gradient_accumulation_steps': args.gradient_accumulation_steps,\n",
        "#                       \"epoch\": args.epoch_num,\n",
        "#                       \"train_path\": args.data_path_train,\n",
        "#                       \"dev_path\": args.data_path_dev,\n",
        "#                       \"test_path\": args.data_path_test,\n",
        "#                       \"train_size\": len(train_examples),\n",
        "#                       \"dev_size\": len(dev_examples),\n",
        "#                       \"test_size\": len(test_examples),\n",
        "#                       'num_hidden_layers': args.num_hidden_layers,\n",
        "#                       'external_sent_num': args.external_sent_num,\n",
        "#                       \"alpha\": args.alpha, \"beta\": args.beta}, indent=2))\n",
        "\n",
        "    train_batch_size = args_train_batch_size // args_gradient_accumulation_steps\n",
        "    tokenizer = T5Tokenizer.from_pretrained(args_model_path)\n",
        "    model = GenMC(args_model_path, args_num_hidden_layers, args_alpha, args_beta)\n",
        "\n",
        "\n",
        "   # checkpoint = torch.load(\"/kaggle/input/checkpoints/checkpointspytorch_model.bin\", map_location='cpu')\n",
        "   # model.load_state_dict(checkpoint['model_state_dict'])\n",
        "\n",
        "#     if args.init_checkpoint is not None:\n",
        "#         checkpoint = torch.load(args.init_checkpoint, map_location='cpu')\n",
        "#         model.load_state_dict(checkpoint['model_state_dict'])\n",
        "    optimizer = torch.optim.AdamW(model.parameters(), lr=args_lr, weight_decay=0.01)\n",
        "\n",
        "    step_count, step_all, early_stop = 0, 0, 0\n",
        "    best_dev_rouge_score, best_test_rouge_score = 0, 0\n",
        "    tr_loss, nb_tr_steps = 0, 0\n",
        "    print(\"here1\")\n",
        "    best_dev_acc, _, _ = eval(model, dev_examples, tokenizer, args_eval_batch_size, args_choice_num, args_max_len,\n",
        "                              args_max_len_gen, args_external_sent_num)\n",
        "    print('best_dev_acc:',best_dev_acc)\n",
        "    best_test_acc = 0\n",
        "\n",
        "    print(\"here2\")\n",
        "    log = []\n",
        "    x = []\n",
        "    y_dev = []\n",
        "    y_train = []\n",
        "\n",
        "    for epoch in range(args_epoch_num):\n",
        "        x.append(epoch)\n",
        "        early_stop += 1\n",
        "        order = list(range(len(train_examples)))\n",
        "        random.seed(args_seed + epoch)\n",
        "        random.shuffle(order)\n",
        "        model.train()\n",
        "        step_count = len(train_examples) // train_batch_size\n",
        "        if step_count * train_batch_size < len(train_examples):\n",
        "            step_count += 1\n",
        "        step_trange = trange(step_count)\n",
        "        for step in step_trange:\n",
        "            step_all += 1\n",
        "            beg_index = step * train_batch_size\n",
        "            end_index = min((step + 1) * train_batch_size, len(train_examples))\n",
        "            order_index = order[beg_index:end_index]\n",
        "            batch_example = [train_examples[index] for index in order_index]\n",
        "            q_ids, q_mask, qo_ids, qo_mask, clue_ids, clue_content_ids, clue_content_mask, answers, output_clue = get_input_feature(\n",
        "                batch_example,\n",
        "                max_source_length=args_max_len,\n",
        "                max_len_gen=args_max_len_gen,\n",
        "                choice_num=args_choice_num,\n",
        "                external_sent_num=args_external_sent_num)\n",
        "            loss = model(q_ids, q_mask, qo_ids, qo_mask, args_choice_num, clue_ids, clue_content_ids, clue_content_mask, answers)\n",
        "\n",
        "            loss = loss.mean()\n",
        "            log.append(loss.item())\n",
        "            tr_loss += loss.item()\n",
        "            nb_tr_steps += 1\n",
        "            loss = loss / args_gradient_accumulation_steps\n",
        "            loss.backward()\n",
        "            if (step + 1) % args_gradient_accumulation_steps == 0:\n",
        "                optimizer.step()\n",
        "                # scheduler.step()\n",
        "                optimizer.zero_grad()\n",
        "\n",
        "            loss_show = ' Epoch:' + str(epoch) + \" loss:\" + str(round(tr_loss / nb_tr_steps, 4))\n",
        "            step_trange.set_postfix_str(loss_show)\n",
        "\n",
        "        train_acc, train_rouge_score, results_dev = eval(model, train_examples, tokenizer, args_eval_batch_size,\n",
        "                                                     args_choice_num, args_max_len, args_max_len_gen,\n",
        "                                                     args_external_sent_num)\n",
        "\n",
        "        dev_acc, dev_rouge_score, results_dev = eval(model, dev_examples, tokenizer, args_eval_batch_size,\n",
        "                                                     args_choice_num, args_max_len, args_max_len_gen,\n",
        "                                                     args_external_sent_num)\n",
        "        print('train_acc', train_acc)\n",
        "        print('dev_acc:', dev_acc)\n",
        "        y_dev.append(dev_acc)\n",
        "        y_train.append(train_acc)\n",
        "\n",
        "        if dev_acc > best_dev_acc:\n",
        "            save_dataset(path_save_result + '/dev.csv', results_dev)\n",
        "            early_stop = 0\n",
        "            #test_acc, test_rouge_score, results_test = eval(model, test_examples, tokenizer, args_eval_batch_size,\n",
        "                                                            #args_choice_num, args_max_len, args_max_len_gen,\n",
        "                                                            #args_external_sent_num)\n",
        "\n",
        "            #save_dataset(path_save_result + '/test.csv', results_test)\n",
        "            #best_dev_acc, best_test_acc, best_dev_rouge_score, best_test_rouge_score = dev_acc, test_acc, dev_rouge_score, test_rouge_score\n",
        "            best_dev_acc,best_dev_rouge_score = dev_acc, dev_rouge_score\n",
        "\n",
        "            save_model('./checkpoints', model, optimizer)\n",
        "            print('new best dev acc:', dev_acc, 'rouge:', dev_rouge_score)\n",
        "\n",
        "        if early_stop >= 10:\n",
        "            break\n",
        "\n",
        "    print('best dev acc:', best_dev_acc,\n",
        "          'best_dev_rouge_score:', best_dev_rouge_score)\n",
        "    plt.plot(log)\n",
        "    plt.xlabel('step')\n",
        "    plt.ylabel('loss')\n",
        "    plt.show()"
      ]
    },
    {
      "cell_type": "code",
      "execution_count": null,
      "id": "5fbd8fd4",
      "metadata": {
        "execution": {
          "iopub.execute_input": "2024-03-13T13:11:36.186475Z",
          "iopub.status.busy": "2024-03-13T13:11:36.186111Z",
          "iopub.status.idle": "2024-03-13T13:11:36.446309Z",
          "shell.execute_reply": "2024-03-13T13:11:36.445399Z"
        },
        "papermill": {
          "duration": 3.813233,
          "end_time": "2024-03-13T13:11:36.448238",
          "exception": false,
          "start_time": "2024-03-13T13:11:32.635005",
          "status": "completed"
        },
        "tags": [],
        "id": "5fbd8fd4",
        "outputId": "fe4e2be6-6ff6-48c4-bf28-d847f8adc3e5"
      },
      "outputs": [
        {
          "data": {
            "text/plain": [
              "Text(0, 0.5, 'loss')"
            ]
          },
          "execution_count": 10,
          "metadata": {},
          "output_type": "execute_result"
        },
        {
          "data": {
            "image/png": "[encoded data removed]",
            "text/plain": [
              "<Figure size 640x480 with 1 Axes>"
            ]
          },
          "metadata": {},
          "output_type": "display_data"
        }
      ],
      "source": [
        "l1 = plt.plot(x, y_dev, label = 'training loss')\n",
        "l2 = plt.plot(x, y_train, label = 'validation loss')\n",
        "plt.xlabel('epoch')\n",
        "plt.ylabel('loss')"
      ]
    }
  ],
  "metadata": {
    "kaggle": {
      "accelerator": "nvidiaTeslaT4",
      "dataSources": [
        {
          "datasetId": 4545841,
          "sourceId": 7770550,
          "sourceType": "datasetVersion"
        },
        {
          "datasetId": 4563909,
          "sourceId": 7795659,
          "sourceType": "datasetVersion"
        }
      ],
      "dockerImageVersionId": 30665,
      "isGpuEnabled": true,
      "isInternetEnabled": true,
      "language": "python",
      "sourceType": "notebook"
    },
    "kernelspec": {
      "display_name": "Python 3",
      "language": "python",
      "name": "python3"
    },
    "language_info": {
      "codemirror_mode": {
        "name": "ipython",
        "version": 3
      },
      "file_extension": ".py",
      "mimetype": "text/x-python",
      "name": "python",
      "nbconvert_exporter": "python",
      "pygments_lexer": "ipython3",
      "version": "3.10.13"
    },
    "papermill": {
      "default_parameters": {},
      "duration": 31037.243763,
      "end_time": "2024-03-13T13:11:42.578122",
      "environment_variables": {},
      "exception": null,
      "input_path": "__notebook__.ipynb",
      "output_path": "__notebook__.ipynb",
      "parameters": {},
      "start_time": "2024-03-13T04:34:25.334359",
      "version": "2.5.0"
    },
    "colab": {
      "provenance": []
    }
  },
  "nbformat": 4,
  "nbformat_minor": 5
}